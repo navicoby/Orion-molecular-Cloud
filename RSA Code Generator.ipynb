{
 "cells": [
  {
   "cell_type": "code",
   "execution_count": 23,
   "id": "b517a251",
   "metadata": {},
   "outputs": [
    {
     "name": "stdout",
     "output_type": "stream",
     "text": [
      "임의의 소수 p : 6661\n",
      "임의의 소수 q : 991\n",
      "공개키 n = p * q : 6601051\n"
     ]
    }
   ],
   "source": [
    "#RSA Code Generator\n",
    "\n",
    "import random\n",
    "import sympy\n",
    "import math\n",
    "\n",
    "# 함수 정의\n",
    "# 임의의 두 개의 소수를 생성한다.\n",
    "def generate_random_prime():\n",
    "  \"\"\"Generate a random prime number\"\"\"\n",
    "  return sympy.prime(random.randint(1, sympy.primepi(10**4)))\n",
    "\n",
    "# 두 개의 소수의 곱으로 공개기 'n'을 생성한다.\n",
    "p = generate_random_prime()\n",
    "q = generate_random_prime()\n",
    "n = p * q\n",
    "print(\"임의의 소수 p :\", p)\n",
    "print(\"임의의 소수 q :\", q)\n",
    "print(\"공개키 n = p * q :\", n)"
   ]
  },
  {
   "cell_type": "code",
   "execution_count": 24,
   "id": "5689066a",
   "metadata": {},
   "outputs": [
    {
     "name": "stdout",
     "output_type": "stream",
     "text": [
      "(p-1)*(q-1) : 6593400\n",
      "공개키 e,: 187597\n",
      "\n",
      "(p-1)(q-1) 과 공개키 'e'는 서로소입니까?: True\n",
      "\n",
      "공개키 'e'는 1 과 (p-1)(q-1) 사이이에 존재하면서 (p-1)(q-1)와 서로소 입니다.\n"
     ]
    }
   ],
   "source": [
    "#오일러 함수 φ(n) 'x'를 생성한다.\n",
    "x = (p-1)*(q-1)\n",
    "print(\"(p-1)*(q-1) :\",x)\n",
    "\n",
    "# 함수 정의\n",
    "# '오일러함수 φ(n)'와 '1'사이에 서로소인 관계의 임의의 수 'x'를 생성한다.\n",
    "# '오일러함수 φ(n)'는 1부터 n까지의 수 중에서 n과 서로소인 수의 개수\n",
    "def generate_coprime_number(e):\n",
    "    \"\"\"Generate a random coprime number between 1 and x\"\"\"\n",
    "    while True:\n",
    "        a = random.randint(1, x)\n",
    "        if math.gcd(a, x) == 1:\n",
    "            return a\n",
    "\n",
    "# 함수 정의\n",
    "# 임의의 수 'a'와 'b'가 '서로소'인지를 검증한다.\n",
    "def is_coprime(a, b):\n",
    "    \"\"\"Check if a and b are coprime integers\"\"\"\n",
    "    return math.gcd(a, b) == 1\n",
    "\n",
    "# '공개키' 임의의 'e'를 생성한다.\n",
    "e = generate_coprime_number(x)\n",
    "print(\"공개키 e,:\", e)\n",
    "print(\"\\n(p-1)(q-1) 과 공개키 'e'는 서로소입니까?:\", is_coprime(x,e))\n",
    "print(\"\\n공개키 'e'는 1 과 (p-1)(q-1) 사이이에 존재하면서 (p-1)(q-1)와 서로소 입니다.\")"
   ]
  },
  {
   "cell_type": "code",
   "execution_count": 25,
   "id": "d1d8b5c9",
   "metadata": {},
   "outputs": [
    {
     "name": "stdout",
     "output_type": "stream",
     "text": [
      "공개키 n: 6601051\n",
      "공개키 e: 187597\n",
      "암호키 d: 2524933\n",
      "실행 시간: 0.18382초\n"
     ]
    }
   ],
   "source": [
    "from sympy.geometry.util import find\n",
    "\n",
    "# 함수 정의\n",
    "# 공개키 'e'와 '임의의 수 'd'를 곱하고 오일러함수 φ(n) 'x'로 나뉘었을 때, 임의의 'd'를 찾는다.\n",
    "# 요약: (e * d)modφ(n)=1 을 만족하는 'd'\n",
    "def find_d(d, n):\n",
    "    \"\"\"Find and return the value of d such that d divides x and x % d = 1\"\"\"\n",
    "    for i in range(2, d):\n",
    "        if (i * n) % x == 1:\n",
    "            return i\n",
    "    return None\n",
    "\n",
    "# 실행시간 확인 \n",
    "import time\n",
    "start_time = time.time()\n",
    "\n",
    "# '개인키' 임의의 'd'를 생성한다.\n",
    "d = find_d(x, e)\n",
    "print(\"공개키 n:\", n)\n",
    "print(\"공개키 e:\", e)\n",
    "print(\"암호키 d:\", d)\n",
    "\n",
    "end_time = time.time()\n",
    "print(\"실행 시간: {:.5f}초\".format(end_time - start_time))"
   ]
  },
  {
   "cell_type": "code",
   "execution_count": 26,
   "id": "0efdf70d",
   "metadata": {},
   "outputs": [
    {
     "name": "stdout",
     "output_type": "stream",
     "text": [
      "공개키 n을 입력하시오\n",
      "6601051\n",
      "공개키 e를 입력하시오\n",
      "187597\n",
      "암호화대상을 입력하시오\n",
      "k\n",
      "암호화 대상: k\n",
      "암호화 ASCII코드: 107\n",
      "전송코드 : 2499335\n",
      "실행 시간: 0.08521초\n"
     ]
    }
   ],
   "source": [
    "# RSA code 암호화\n",
    "\n",
    "import random\n",
    "import sympy\n",
    "import math\n",
    "\n",
    "# 생성된 공개키 'n'입력\n",
    "print(\"공개키 n을 입력하시오\")\n",
    "n_str = input()\n",
    "n = int(n_str)\n",
    "\n",
    "# 생성된 공개키 'e' 입력\n",
    "print(\"공개키 e를 입력하시오\")\n",
    "e_str = input()\n",
    "e = int(e_str)\n",
    "\n",
    "# 암호화하고자 하는 문자 입력 'a~x', '1~0'\n",
    "print(\"암호화대상을 입력하시오\")\n",
    "a = input()\n",
    "# Ascii 코드로 변환\n",
    "m = ord(a)\n",
    "print(\"암호화 대상:\", a)\n",
    "print(\"암호화 ASCII코드:\", m)\n",
    "\n",
    "import time\n",
    "start_time = time.time()\n",
    "\n",
    "# Ascii코드로 변환한 수를 암호화\n",
    "c = (m ** e) % n\n",
    "print(\"전송코드 :\", c)\n",
    "\n",
    "end_time = time.time()\n",
    "print(\"실행 시간: {:.5f}초\".format(end_time - start_time))"
   ]
  },
  {
   "cell_type": "code",
   "execution_count": 27,
   "id": "27cf55d7",
   "metadata": {},
   "outputs": [
    {
     "name": "stdout",
     "output_type": "stream",
     "text": [
      "수신코드를 입력하시오\n",
      "2499335\n",
      "공개키 n을 입력하시오\n",
      "6601051\n",
      "개인키 d를 입력하시오\n",
      "2524933\n",
      "복조화 대상 : 2499335\n",
      "복조화 완료...\n",
      "수신정보: k\n",
      "실행 시간: 22.27611초\n"
     ]
    }
   ],
   "source": [
    "import random\n",
    "import sympy\n",
    "import math\n",
    "\n",
    "# 전송코드 입력 \n",
    "print(\"수신코드를 입력하시오\")\n",
    "c_str = input()\n",
    "c = int(c_str)\n",
    "\n",
    "# 공개키 'e' 입력\n",
    "print(\"공개키 n을 입력하시오\")\n",
    "n_str = input()\n",
    "n = int(n_str)\n",
    "\n",
    "# 개인키 'd' 입력\n",
    "print(\"개인키 d를 입력하시오\")\n",
    "d_str = input()\n",
    "\n",
    "import time\n",
    "start_time = time.time()\n",
    "\n",
    "d = int(d_str)\n",
    "r = (c ** d) % n\n",
    "print(\"복조화 대상 :\", c)\n",
    "print(\"복조화 완료...\")\n",
    "print(\"수신정보:\", chr(r))\n",
    "\n",
    "end_time = time.time()\n",
    "print(\"실행 시간: {:.5f}초\".format(end_time - start_time))"
   ]
  },
  {
   "cell_type": "code",
   "execution_count": null,
   "id": "5698358c",
   "metadata": {},
   "outputs": [],
   "source": []
  }
 ],
 "metadata": {
  "kernelspec": {
   "display_name": "Python 3 (ipykernel)",
   "language": "python",
   "name": "python3"
  },
  "language_info": {
   "codemirror_mode": {
    "name": "ipython",
    "version": 3
   },
   "file_extension": ".py",
   "mimetype": "text/x-python",
   "name": "python",
   "nbconvert_exporter": "python",
   "pygments_lexer": "ipython3",
   "version": "3.9.13"
  }
 },
 "nbformat": 4,
 "nbformat_minor": 5
}
